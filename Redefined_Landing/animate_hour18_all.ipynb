{
 "cells": [
  {
   "cell_type": "code",
   "execution_count": 7,
   "metadata": {},
   "outputs": [],
   "source": [
    "library(ggplot2)\n",
    "library(data.table)\n",
    "max_ac_df <- readRDS(\"hour18_data.Rds\")"
   ]
  },
  {
   "cell_type": "code",
   "execution_count": 8,
   "metadata": {},
   "outputs": [],
   "source": [
    "max_ac_df$weekday <- weekdays(max_ac_df$ts_readable)"
   ]
  },
  {
   "cell_type": "code",
   "execution_count": 9,
   "metadata": {},
   "outputs": [
    {
     "data": {
      "text/html": [
       "<ol class=list-inline>\n",
       "\t<li>'Monday'</li>\n",
       "\t<li>'Monday'</li>\n",
       "\t<li>'Monday'</li>\n",
       "\t<li>'Monday'</li>\n",
       "\t<li>'Monday'</li>\n",
       "\t<li>'Monday'</li>\n",
       "</ol>\n"
      ],
      "text/latex": [
       "\\begin{enumerate*}\n",
       "\\item 'Monday'\n",
       "\\item 'Monday'\n",
       "\\item 'Monday'\n",
       "\\item 'Monday'\n",
       "\\item 'Monday'\n",
       "\\item 'Monday'\n",
       "\\end{enumerate*}\n"
      ],
      "text/markdown": [
       "1. 'Monday'\n",
       "2. 'Monday'\n",
       "3. 'Monday'\n",
       "4. 'Monday'\n",
       "5. 'Monday'\n",
       "6. 'Monday'\n",
       "\n",
       "\n"
      ],
      "text/plain": [
       "[1] \"Monday\" \"Monday\" \"Monday\" \"Monday\" \"Monday\" \"Monday\""
      ]
     },
     "metadata": {},
     "output_type": "display_data"
    }
   ],
   "source": [
    "head(max_ac_df$weekday)\n",
    "setwd(\"hour18\")"
   ]
  },
  {
   "cell_type": "code",
   "execution_count": 10,
   "metadata": {},
   "outputs": [],
   "source": [
    "max_ac_df <- max_ac_df[max_ac_df$weekday == 'Monday', ]"
   ]
  },
  {
   "cell_type": "code",
   "execution_count": 11,
   "metadata": {},
   "outputs": [],
   "source": [
    "library(animation)\n",
    "setorder(max_ac_df, ts)\n",
    "uniq_ts <- unique(max_ac_df$ts)\n",
    "uniq_ts <- uniq_ts[order(uniq_ts)]\n",
    "max_time_df <- max_ac_df[, list(max_ts = max(ts)), by = id]\n",
    "max_ac_df <- merge(max_ac_df, max_time_df)\n",
    "func <- function() {\n",
    "  for(i_time in uniq_ts) {\n",
    "    subset_df <- max_ac_df[ts <= i_time & i_time <= max_ts, ]\n",
    "    p <- ggplot(data = subset_df, aes(x = lon.x, y = lat.x, color = id, frame = ts)) +\n",
    "    geom_path(arrow = arrow(angle = 18, length = unit(0.065, \"inches\"), type = 'closed')) + xlim(c(min(max_ac_df$lon.x), max(max_ac_df$lon.x))) +\n",
    "    ylim(c(min(max_ac_df$lat.x), max(max_ac_df$lat.x))) +\n",
    "    theme(legend.position = \"none\")\n",
    "    print(p)\n",
    "  }\n",
    "}"
   ]
  },
  {
   "cell_type": "code",
   "execution_count": 12,
   "metadata": {},
   "outputs": [
    {
     "name": "stderr",
     "output_type": "stream",
     "text": [
      "geom_path: Each group consists of only one observation. Do you need to adjust\n",
      "the group aesthetic?\n",
      "geom_path: Each group consists of only one observation. Do you need to adjust\n",
      "the group aesthetic?\n"
     ]
    }
   ],
   "source": [
    "oopt <- ani.options(interval = 0.05, nmax = nrow(max_ac_df))  \n",
    "saveHTML(func(), interval = 0.05, width = 580, height = 400)"
   ]
  }
 ],
 "metadata": {
  "kernelspec": {
   "display_name": "R",
   "language": "R",
   "name": "ir"
  },
  "language_info": {
   "codemirror_mode": "r",
   "file_extension": ".r",
   "mimetype": "text/x-r-source",
   "name": "R",
   "pygments_lexer": "r",
   "version": "3.6.0"
  }
 },
 "nbformat": 4,
 "nbformat_minor": 2
}
