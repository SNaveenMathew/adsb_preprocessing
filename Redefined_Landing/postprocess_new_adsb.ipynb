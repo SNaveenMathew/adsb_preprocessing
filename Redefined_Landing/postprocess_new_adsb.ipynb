{
 "cells": [
  {
   "cell_type": "markdown",
   "metadata": {},
   "source": [
    "# Data dictionary\n",
    "\n",
    "- V6 is heading in degrees\n",
    "- V2 seems to change for each aircraft during exit-entry\n",
    "- V14 is 'from' airport\n",
    "- V7 is altitude in ft\n",
    "- V8 is ground speed in kts\n",
    "- V15 is 'to' airport\n",
    "- V3 looks like a proxy for aircraft\n",
    "- V13 is timestamp\n",
    "- V18 is instantaneous climb rate (jittery)\n",
    "- V16_V19 looks like a good proxy for aircraft id: more relevant than V3 (aircraft)\n",
    "- V16_V19 can refine V3\n",
    "- V17 looks like 'aircraft at airport' flag"
   ]
  },
  {
   "cell_type": "markdown",
   "metadata": {},
   "source": [
    "# Note\n",
    "\n",
    "Plotting fails because rnaturalearth could not be installed"
   ]
  },
  {
   "cell_type": "markdown",
   "metadata": {},
   "source": [
    "# Initialization"
   ]
  },
  {
   "cell_type": "code",
   "execution_count": 1,
   "metadata": {},
   "outputs": [],
   "source": [
    "lower_lat <- 35\n",
    "upper_lat <- 45\n",
    "lower_lon <- -78\n",
    "upper_lon <- -68\n",
    "lat_range <- 0.4\n",
    "lon_range <- 0.5\n",
    "ts_diff_ground <- 1080\n",
    "ts_diff_exit_enter <- 1080\n",
    "ts_diff_expired <- 7200\n",
    "airport_lat_half_range <- airport_lon_half_range <- 0.1"
   ]
  },
  {
   "cell_type": "code",
   "execution_count": 2,
   "metadata": {},
   "outputs": [],
   "source": [
    "suppressMessages({\n",
    "    library(plyr)\n",
    "    library(dplyr)\n",
    "    library(data.table)\n",
    "    library(bit64)\n",
    "})"
   ]
  },
  {
   "cell_type": "code",
   "execution_count": 3,
   "metadata": {},
   "outputs": [],
   "source": [
    "########################################################################\n",
    "############## Reading ADS-B data and preprocessing ####################\n",
    "########################################################################\n",
    "\n",
    "landed_altitude <- 1000 # may not need this because of V17\n",
    "v1_ground <- 50\n",
    "surely_grounded_speed <- 10\n",
    "ac_data <- fread(\"../../adsb_fetch/ads-b_with_id.csv\")\n",
    "ac_data <- rbind(ac_data, fread(\"../../adsb_fetch/ads-b_exta_with_id_no_est.csv\"))\n",
    "ac_data <- ac_data %>% rename(azimuth = V6, source = V14, destination = V15, altitude = V7,\n",
    "                              ground_speed = V8, aircraft = V3, ts = V13, climb_rate = V18,\n",
    "                              ground_flag = V17, lat = V4, lon = V5, aircraft_type = V11)\n",
    "\n",
    "# New: Ground flag and altitude update to avoid discrepancies\n",
    "ac_data$ground_flag[ac_data$altitude == 0] <- 1\n",
    "ac_data$altitude[ac_data$ground_flag == 1] <- 0\n",
    "\n",
    "ac_data$altitude <- 100 * ceiling(ac_data$altitude/100)\n",
    "ac_data <- ac_data[ac_data$V10 != \"F-EST\"] # Removing estimated positions\n",
    "setorder(ac_data, aircraft, ts)\n",
    "ac_data <- ac_data[, .SD[1], by = list(aircraft, ts)]\n",
    "\n",
    "ac_data$ts_readable <- as.POSIXct.numeric(as.numeric(ac_data$ts), origin=\"1970-01-01\")"
   ]
  },
  {
   "cell_type": "code",
   "execution_count": 4,
   "metadata": {},
   "outputs": [],
   "source": [
    "# Removing anomalous aircraft\n",
    "ac_data$quadrant <- ceiling(ac_data$azimuth/90)\n",
    "ac_data <- ac_data[!grepl(ac_data$aircraft, pattern = \"^FAA\"), ]\n",
    "# ac_to_remove <- data.frame(aircraft = unique(ac_data$aircraft[ac_data$altitude >= 30000 & ac_data$ground_speed < 100]))"
   ]
  },
  {
   "cell_type": "code",
   "execution_count": 5,
   "metadata": {},
   "outputs": [],
   "source": [
    "ac_data$V16_V19 <- paste0(ac_data$V16, \"_\", ac_data$V19)\n",
    "ac_data[, c(\"last_lat\", \"last_lon\", \"last_azimuth\", \"last_altitude\",\n",
    "            \"last_ts\", \"last_source\", \"last_destination\", \"last_V9\",\n",
    "            \"last_ground_flag\", \"last_V16_V19\", \"last_quadrant\",\n",
    "            \"last_ground_speed\", \"last_V2\",\n",
    "            \"next_lat\", \"next_lon\", \"next_azimuth\", \"next_altitude\",\n",
    "            \"next_ts\", \"next_source\", \"next_destination\", \"next_V9\",\n",
    "            \"next_ground_flag\", \"next_V16_V19\", \"next_quadrant\",\n",
    "            \"next_ground_speed\", \"next_V2\",\n",
    "            \"uniq_source\",\n",
    "            \"uniq_destination\",\n",
    "            \"max_ac_alt\") :=\n",
    "                list(c(lat[1], lat[-.N]), c(lon[1], lon[-.N]), c(azimuth[1], azimuth[-.N]), c(altitude[1], altitude[-.N]),\n",
    "                     c(ts[1], ts[-.N]), c(NA, source[-.N]), c(NA, destination[-.N]), c(NA, V9[-.N]),\n",
    "                     c(ground_flag[1], ground_flag[-.N]), c(V16_V19[1], V16_V19[-.N]), c(quadrant[1], quadrant[-.N]),\n",
    "                     c(ground_speed[1], ground_speed[-.N]), c(V2[1], V2[-.N]),\n",
    "                     c(lat[-.1], NA), c(lon[-1], NA), c(azimuth[-.1], NA), c(altitude[-1], NA),\n",
    "                     c(ts[-1], NA), c(source[-1], NA), c(destination[-1], NA), c(V9[-1], NA),\n",
    "                     c(ground_flag[-1], NA), c(V16_V19[-1], NA), c(quadrant[-1], NA),\n",
    "                     c(ground_speed[-1], NA), c(V2[-1], NA),\n",
    "                     paste0(sort(unique(source)), collapse = \" \"),\n",
    "                     paste0(sort(unique(destination)), collapse = \" \"),\n",
    "                     max(altitude)), by = \"aircraft\"]\n",
    "ac_data$last_ts_diff <- ac_data$ts - ac_data$last_ts\n",
    "ac_data$next_ts_diff <- ac_data$next_ts - ac_data$ts\n",
    "ac_data$destination <- toupper(ac_data$destination)\n",
    "ac_data$est_climb_rate <- 60 * (as.numeric(ac_data$altitude) - as.numeric(ac_data$last_altitude))/as.numeric(ac_data$last_ts_diff) # ft/min\n",
    "ac_data$climb_rate_ratio <- 1\n",
    "condition <- ac_data$est_climb_rate != 0 & !is.na(ac_data$est_climb_rate) & ac_data$last_ts_diff < 1200\n",
    "ac_data$climb_rate_ratio[condition] <- ac_data$climb_rate[condition]/ac_data$est_climb_rate[condition]\n",
    "ac_data$quadrant_change <- ac_data$quadrant != ac_data$last_quadrant"
   ]
  },
  {
   "cell_type": "code",
   "execution_count": 6,
   "metadata": {},
   "outputs": [],
   "source": [
    "########################################################################\n",
    "################# Reading airports data and checking ###################\n",
    "########################################################################\n",
    "\n",
    "# This file seems to be more reliable\n",
    "airports <- read.csv(\"../../../GlobalAirportDatabase.txt\", header = F, stringsAsFactors = F)\n",
    "airports <- airports %>% dplyr::rename(airport = V5, lat = V7, lon = V8)\n",
    "airports$airport <- toupper(airports$airport)\n",
    "airports <- airports[airports$airport != \"\", ]\n",
    "\n",
    "# 511 of the 563 destinations can be matched\n",
    "\n",
    "airports <- airports[data.table::between(airports$lat, lower = lower_lat, upper = upper_lat) &\n",
    "                       data.table::between(airports$lon, lower = lower_lon, upper = upper_lon), ]\n",
    "rownames(airports) <- airports$V1 <- NULL"
   ]
  },
  {
   "cell_type": "code",
   "execution_count": 7,
   "metadata": {},
   "outputs": [
    {
     "data": {
      "text/plain": [
       "\n",
       "      0 \n",
       "8699091 "
      ]
     },
     "metadata": {},
     "output_type": "display_data"
    }
   ],
   "source": [
    "table(ac_data$altitude[ac_data$ground_flag == 1])"
   ]
  },
  {
   "cell_type": "code",
   "execution_count": 8,
   "metadata": {},
   "outputs": [],
   "source": [
    "########################################################################\n",
    "############### Defining landing and entry into sector #################\n",
    "########################################################################\n",
    "\n",
    "ac_data$touchdown <- (ac_data$last_ground_flag == 0) &\n",
    "  (ac_data$ground_flag == 1)\n",
    "ac_data[, \"last_touchdown\" := c(F, touchdown[-.N]), by = aircraft]\n",
    "ac_data$touchdown <- ac_data$last_touchdown\n",
    "ac_data$last_touchdown <- NULL\n",
    "# ac_data[, \"touchdown_id\" := cumsum(last_touchdown), by = aircraft]\n",
    "# ac_data[, \"max_touchdown\" := max(touchdown_id), by = aircraft]\n",
    "# ac_data[, max_altitude_touchdown_id := max(altitude), by = list(aircraft, touchdown_id)]\n",
    "# print(sum(ac_data$last_touchdown & (ac_data$max_altitude_touchdown_id < 0.1 * ac_data$max_ac_alt)))\n",
    "# ac_data$last_touchdown[ac_data$last_touchdown & (ac_data$max_altitude_touchdown_id < 0.1 * ac_data$max_ac_alt)] <- F\n",
    "# ac_data[, \"touchdown_id\" := cumsum(touchdown), by = aircraft]\n",
    "# ac_data[, \"max_touchdown\" := max(touchdown_id), by = aircraft]\n",
    "# ac_data[, max_altitude_touchdown_id := max(altitude), by = list(aircraft, touchdown_id)]\n",
    "\n",
    "# Consecutive landings within 10 mins is not possible\n",
    "# These can be considered as missed approaches, therefore only the final landing is considered\n",
    "# false_idx <- c()\n",
    "# for(ac in unique(ac_data$aircraft[ac_data$touchdown & ac_data$max_touchdown > 1])) {\n",
    "#   ac_df <- ac_data[ac_data$aircraft == ac & ac_data$touchdown, ]\n",
    "#   time_between_touchdowns <- as.numeric(difftime(ac_df$ts_readable[-1], ac_df$ts_readable[-nrow(ac_df)], units = \"s\"))\n",
    "#   if(any(time_between_touchdowns < 600)) {\n",
    "#     idx1 <- which(time_between_touchdowns < 600)\n",
    "#     ac_data_idx <- which(ac_data$aircraft == ac & ac_data$touchdown)\n",
    "#     false_idx <- c(false_idx, ac_data_idx[idx1])\n",
    "#   }\n",
    "# }\n",
    "# if(length(false_idx) > 0) {\n",
    "#   ac_data$touchdown[false_idx] <- F\n",
    "# }"
   ]
  },
  {
   "cell_type": "code",
   "execution_count": 9,
   "metadata": {},
   "outputs": [],
   "source": [
    "# touchdown_df <- ac_data[ac_data$touchdown, c(\"aircraft\", \"ts\")]\n",
    "# rows = nrow(touchdown_df) + 1\n",
    "\n",
    "# while(rows != nrow(touchdown_df)) {\n",
    "#     rows <- nrow(touchdown_df)\n",
    "#     print(rows)\n",
    "#     touchdown_df[, \"next_touchdown_ts\" := c(ts[-1], NA), by = \"aircraft\"]\n",
    "#     touchdown_df$touchdown_time_diff <- touchdown_df$next_touchdown_ts - touchdown_df$ts\n",
    "#     touchdown_df$touchdown_time_diff[is.na(touchdown_df$touchdown_time_diff)] <- 600\n",
    "#     touchdown_df <- touchdown_df[touchdown_df$touchdown_time_diff >= 600, ]\n",
    "# }\n",
    "# touchdown_df$touchdown <- T\n",
    "# ac_data$touchdown <- NULL\n",
    "# ac_data <- merge(ac_data, touchdown_df, all.x = T, all.y = T)\n",
    "# ac_data$touchdown[is.na(ac_data$touchdown)] <- F\n",
    "# sum(ac_data$touchdown)"
   ]
  },
  {
   "cell_type": "code",
   "execution_count": 10,
   "metadata": {},
   "outputs": [
    {
     "data": {
      "text/html": [
       "TRUE"
      ],
      "text/latex": [
       "TRUE"
      ],
      "text/markdown": [
       "TRUE"
      ],
      "text/plain": [
       "[1] TRUE"
      ]
     },
     "metadata": {},
     "output_type": "display_data"
    },
    {
     "name": "stdout",
     "output_type": "stream",
     "text": [
      "[1] 0.963998\n"
     ]
    }
   ],
   "source": [
    "########################################################################\n",
    "################## Testing definition of touchdown #####################\n",
    "########################################################################\n",
    "\n",
    "identify_airport <- function(lat, lon, lat_half_range = airport_lat_half_range,\n",
    "                             lon_half_range = airport_lon_half_range) {\n",
    "  df <- airports[data.table::between(airports$lat, lower = lat - lat_half_range,\n",
    "                                     upper = lat + lat_half_range) &\n",
    "                   data.table::between(airports$lon, lower = lon - lon_half_range,\n",
    "                                       upper = lon + lon_half_range), ]\n",
    "  if(nrow(df) > 1) {\n",
    "    dists <- apply(df, 1, function(row) {\n",
    "      row[\"lat\"] <- as.numeric(row[\"lat\"])\n",
    "      row[\"lon\"] <- as.numeric(row[\"lon\"])\n",
    "      return(distm(x = c(row[\"lon\"], row[\"lat\"]), y = c(lon, lat)))\n",
    "    })\n",
    "    df <- df[which.min(dists), ]\n",
    "    df$dist <- min(dists)\n",
    "  } else if(nrow(df) == 1) {\n",
    "    df$dist <- 0\n",
    "  } else {\n",
    "    dists <- apply(airports, 1, function(row) {\n",
    "      row[\"lat\"] <- as.numeric(row[\"lat\"])\n",
    "      row[\"lon\"] <- as.numeric(row[\"lon\"])\n",
    "      return(distm(x = c(lon, lat), y = c(row[\"lon\"], row[\"lat\"])))\n",
    "    })\n",
    "    df <- airports[which.min(dists), ]\n",
    "    df$dist <- min(dists)\n",
    "  }\n",
    "  return(df[, c(\"airport\", \"dist\")])\n",
    "}\n",
    "\n",
    "\n",
    "touchdown <- ac_data[ac_data$touchdown, ]\n",
    "landed_airport <- list()\n",
    "library(geosphere)\n",
    "for(i in 1:nrow(touchdown)) {\n",
    "  landed_airport[[i]] <- identify_airport(touchdown$lat[i], touchdown$lon[i])\n",
    "}\n",
    "all(sapply(landed_airport, nrow) == 1)\n",
    "condition <- sapply(landed_airport, function(row) row$dist) <= 10000\n",
    "print(mean(condition)) # landed location is within 10 km of airport\n",
    "touchdown_idx <- which(ac_data$touchdown)\n",
    "non_touchdown <- touchdown_idx[!condition]\n",
    "ac_data$touchdown[non_touchdown] <- F\n",
    "ac_data$airport <- \"\"\n",
    "ac_data$airport[ac_data$touchdown] <- sapply(landed_airport, function(row) row$airport)[condition]"
   ]
  },
  {
   "cell_type": "code",
   "execution_count": 11,
   "metadata": {},
   "outputs": [],
   "source": [
    "precision_recall <- F\n",
    "if(precision_recall) {\n",
    "  dests <- ac_data$last_destination[ac_data$touchdown & ac_data$last_destination != \"\"]\n",
    "  print(mean(dests == ac_data$airport[ac_data$touchdown & ac_data$last_destination != \"\"]))\n",
    "  # Accuracy of 'given' destination: 0.9568\n",
    "  # Actually the precision is 0.9635 (from azimuth analysis)\n",
    "  \n",
    "  # JFK recall (assuming 'airport' is true value)\n",
    "  tbl <- table(ac_data$destination[ac_data$touchdown & ac_data$airport == \"JFK\"])\n",
    "  print(sort(tbl, decreasing = T)/sum(tbl))\n",
    "  # JFK recall is 0.9177, \"\" is the main issue\n",
    "}"
   ]
  },
  {
   "cell_type": "code",
   "execution_count": 12,
   "metadata": {},
   "outputs": [
    {
     "data": {
      "text/plain": [
       "\n",
       "      0       1       2       3       4       5       6       7       8       9 \n",
       "3758765 2114839 2702021 2194311 1623589 1795420 1570134 1365213 1396973 1240793 \n",
       "     10      11      12      13      14      15      16      17      18      19 \n",
       "1110341 1092417 1030091  932642  896434  870288  781884  750496  739812  688699 \n",
       "     20      21      22      23      24      25      26      27      28      29 \n",
       " 654600  643991  595907  586151  545781  498007  476803  448553  433851  410152 \n",
       "     30      31      32      33      34      35      36      37      38      39 \n",
       " 397044  384054  355629  343815  331523  303632  293041  293737  269333  265837 \n",
       "     40      41      42      43      44      45      46      47      48      49 \n",
       " 256011  245934  241916  228248  221145  201703  208786  193281  195236  193551 \n",
       "     50      51      52      53      54      55      56      57      58      59 \n",
       " 177487  180472  173159  163675  159082  153741  155119  140112  137516  134366 \n",
       "     60      61      62      63      64      65      66      67      68      69 \n",
       " 129459  131392  126047  129618  117560  113564  115003  110247   91730   97406 \n",
       "     70      71      72      73      74      75      76      77      78      79 \n",
       "  89386   81257   81886   80063   76270   77515   71142   66959   59412   69389 \n",
       "     80      81      82      83      84      85      86      87      88      89 \n",
       "  57123   53545   52410   50515   49816   50282   45858   40816   40014   39810 \n",
       "     90      91      92      93      94      95      96      97      98      99 \n",
       "  35297   35239   29374   32123   26788   27970   29353   25047   25610   22550 \n",
       "    100     101     102     103     104     105     106     107     108     109 \n",
       "  21321   20456   20447   21399   15886   17745   16161   13580   12871   12189 \n",
       "    110     111     112     113     114     115     116     117     118     119 \n",
       "  11339   12855   10958    9025    9968    7130    8042    8700    7741    6277 \n",
       "    120     121     122     123     124     125     126     127     128     129 \n",
       "   7597    7457    8065    4919    5566    6207    4800    4329    6882    3123 \n",
       "    130     131     132     133     134     135     136     137     138     139 \n",
       "   3570    4372    3133    2196    2300    3398    2489    2601    2036    1647 \n",
       "    140     141     142     143     144     145     146     147     148     149 \n",
       "   2745    2224    2494    2409    2147    1728    2074    2232    2005    1388 \n",
       "    150     151     152     153     154     155     156     157     158     159 \n",
       "   1565     622     861    1554    1086    1591    1068     657    1262     977 \n",
       "    160     161     162     163     164     165     166     167     168     169 \n",
       "    471     593     689     131     244      26     592      73     214     222 \n",
       "    170     171     172     173     174     175     176     177     178     179 \n",
       "    151      83     227     178      83     180     169      74     150     188 \n",
       "    180     181     182     183     184     185     186     187     188     189 \n",
       "    140      74      89      18      81      80       9      69      46      10 \n",
       "    190     191     192     193     194     195     196     197     198     199 \n",
       "     67      56       2       9      82      59       9       3      73     289 \n",
       "    200     201     202     203     204     205     206     207     208     209 \n",
       "      8     352      59       8      86      57      81      57       9      63 \n",
       "    210     211     212     213     214     215     216     217     218     219 \n",
       "     60       5      51      54       8      49      51       6      73      54 \n",
       "    220     221     222     223     224     225     226     227     228     229 \n",
       "     10      73      48      12      66      50      10      63      56       7 \n",
       "    230     231     232     233     234     235     236     237     238     239 \n",
       "     61       4      51      10      62      53      63      54       9      56 "
      ]
     },
     "metadata": {},
     "output_type": "display_data"
    }
   ],
   "source": [
    "lat_lon_boundary_flag <- function(lt, ln, last_lt, last_ln,\n",
    "                                  lower_lt = lower_lat, lower_ln = lower_lon, upper_lt = upper_lat,\n",
    "                                  upper_ln = upper_lon, lt_range = lat_range, ln_range = lon_range) {\n",
    "  ans <- (ln < ((lower_ln + ln_range) | last_ln < (lower_ln + ln_range))) |\n",
    "    ((ln > (upper_ln - ln_range) | last_ln > (upper_ln - ln_range))) |\n",
    "    ((lt < (lower_lt + lt_range) | last_ln < (lower_lt + lt_range))) |\n",
    "    ((lt > (upper_lt - lt_range) | last_ln > (upper_lt - lt_range)))\n",
    "  return(ans)\n",
    "}\n",
    "\n",
    "\n",
    "ac_data$landed <- ac_data$touchdown\n",
    "ac_data$entered <- (ac_data$V2 != ac_data$last_V2) |\n",
    "  (lat_lon_boundary_flag(ac_data$lat, ac_data$lon, ac_data$last_lat, ac_data$last_lon) &\n",
    "          ac_data$last_ts_diff > 1080)\n",
    "\n",
    "ac_data$entered[is.na(ac_data$entered)] <- F\n",
    "ac_data$expired <- (ac_data$last_ts_diff > ts_diff_expired)\n",
    "ac_data$landed_or_entered_or_expired <- ac_data$landed | ac_data$entered | ac_data$expired\n",
    "ac_data[, \"num_id\" := cumsum(landed_or_entered_or_expired), by = \"aircraft\"]\n",
    "table(ac_data$num_id)\n",
    "ac_data$id <- paste0(ac_data$aircraft, \"_\", ac_data$num_id)"
   ]
  },
  {
   "cell_type": "code",
   "execution_count": 13,
   "metadata": {},
   "outputs": [],
   "source": [
    "########################################################################\n",
    "############### Plotting trajectory of resulting IDs ###################\n",
    "########################################################################\n",
    "\n",
    "plotting <- F\n",
    "\n",
    "if(plotting) {\n",
    "  dir.create(\"jfk_landing\", showWarnings = F)\n",
    "  setwd(\"jfk_landing\")\n",
    "  visualize_map <- function(ac_df, color_var = \"id\", sampl = T,\n",
    "                            min_lon = NULL, max_lon = NULL, min_lat = NULL, max_lat = NULL) {\n",
    "    ac_df$num_id <- as.integer(as.factor(ac_df$id))\n",
    "    ac_df <- split(ac_df, ac_df$num_id)\n",
    "    if(sampl)\n",
    "      ac_df <- ac_df[sample(x = 1:length(ac_df), size = n_aircraft, replace = F)]\n",
    "    ac_df <- do.call(rbind, ac_df)\n",
    "    ac_df <- ac_df[order(ac_df$ts), ]\n",
    "    p <- ggplot() +\n",
    "      geom_sf(data = world) +\n",
    "      coord_sf(xlim = c(min_lon, max_lon), ylim = c(min_lat, max_lat), expand = F) +\n",
    "      geom_path(data = ac_df, arrow = arrow(type = \"closed\", angle = 18,\n",
    "                                            length = unit(0.1, \"inches\")),\n",
    "                aes(x = lon, y = lat, frame = ts, color = id)) +\n",
    "      xlim(c(min_lon, max_lon)) +\n",
    "      ylim(c(min_lat, max_lat))\n",
    "    return(p)\n",
    "  }\n",
    "  \n",
    "  ac_data[, c(\"last_entered\", \"next_entered\",\n",
    "              \"last_airport\", \"next_airport\",\n",
    "              \"last_touchdown\", \"next_touchdown\") :=\n",
    "            list(c(F, entered[-.N]), c(entered[-1], F),\n",
    "                 c(airport[1], airport[-.N]), c(airport[-1], NA),\n",
    "                 c(F, touchdown[-.N]), c(touchdown[-1], F)), by = \"aircraft\"]\n",
    "  jfk_data <- data.frame(id = ac_data$id[ac_data$next_airport == \"JFK\" & ac_data$next_touchdown\n",
    "                                         & ac_data$source != \"JFK\"], jfk_landing_flag = T)\n",
    "  jfk_data <- merge(jfk_data, ac_data, all.x = T, all.y = T)\n",
    "  jfk_data$jfk_landing_flag[is.na(jfk_data$jfk_landing_flag)] <- F\n",
    "  \n",
    "  min_lon <- min(jfk_data$lon)\n",
    "  max_lon <- max(jfk_data$lon)\n",
    "  min_lat <- min(jfk_data$lat)\n",
    "  max_lat <- max(jfk_data$lat)\n",
    "  uniq_id <- unique(jfk_data$aircraft)\n",
    "  \n",
    "  \n",
    "  library(parallel)\n",
    "  library(ggplot2)\n",
    "  library(rnaturalearth)\n",
    "  cores <- detectCores() - 1\n",
    "  cl <- parallel::makeCluster(cores)\n",
    "  split_num <- ceiling(length(uniq_id)/cores)\n",
    "  num_id <- ceiling((1:length(uniq_id))/split_num)\n",
    "  id_splits <- split(uniq_id, num_id)\n",
    "  jfk_data1 <- jfk_data[, c(\"id\", \"ts\", \"lon\", \"lat\", \"aircraft\")]\n",
    "  world <- ne_countries(scale = \"medium\", returnclass = \"sf\")\n",
    "  clusterExport(cl, list(\"jfk_data1\", \"coord_sf\", \"geom_sf\", \"world\", \"visualize_map\",\n",
    "                         \"min_lon\", \"max_lon\", \"min_lat\", \"max_lat\", \"png\", \"paste0\",\n",
    "                         \"print\", \"dev.off\", \"ggplot\", \"geom_path\", \"arrow\", \"aes\",\n",
    "                         \"unit\", \"xlim\", \"ylim\"))\n",
    "  \n",
    "  plot_ids <- function(uniq_id) {\n",
    "#     setwd(\"~/Desktop/Coding/Old/ATC_Analysis_2019_04_01/Refedined_Landing/jfk_landing/\")\n",
    "    for(id1 in uniq_id) {\n",
    "      ac_df <- jfk_data1[jfk_data1$aircraft == id1, ]\n",
    "      p <- visualize_map(ac_df, sampl = F, min_lon = min_lon,\n",
    "                         max_lon = max_lon, min_lat = min_lat,\n",
    "                         max_lat = max_lat)\n",
    "      png(paste0(id1, \".png\"), width = 1366, height = 768)\n",
    "      print(p)\n",
    "      dev.off()\n",
    "    }\n",
    "    setwd(\"../\")\n",
    "  }\n",
    "  \n",
    "  parLapply(cl, id_splits, plot_ids)\n",
    "  stopCluster(cl)\n",
    "  \n",
    "  setwd(\"../\")\n",
    "}"
   ]
  },
  {
   "cell_type": "code",
   "execution_count": 14,
   "metadata": {},
   "outputs": [],
   "source": [
    "########################################################################\n",
    "################## Saving final prepropcessed data #####################\n",
    "########################################################################\n",
    "\n",
    "saveRDS(ac_data[, c(\"aircraft\", \"id\", \"ts\", \"ts_readable\", \"lon\", \"lat\", \"altitude\", \"ground_speed\", \"azimuth\", \"source\", \"destination\")], \"ac_data_processed.Rds\")\n",
    "setorder(ac_data, aircraft, ts)\n",
    "ac_data[, c(\"last_touchdown\", \"next_touchdown\", \"last_entered\", \"next_entered\", \"last_airport\", \"next_airport\") :=\n",
    "          list(c(F, touchdown[-.N]), c(touchdown[-1], F), c(F, entered[-.N]), c(entered[-1], F), c(\"\", airport[-.N]), c(airport[-1], \"\")), by = \"aircraft\"]\n",
    "ac_data$next_touchdown[is.na(ac_data$next_touchdown)] <- F\n",
    "jfk_data <- data.frame(id = unique(ac_data$id[ac_data$next_airport == \"JFK\" & ac_data$next_touchdown &\n",
    "                                              ac_data$source != \"JFK\"]), jfk_landing_flag = T)\n",
    "jfk_data <- merge(jfk_data, ac_data, all.x = T, all.y = T)\n",
    "jfk_data$jfk_landing_flag[is.na(jfk_data$jfk_landing_flag)] <- F\n",
    "setDT(jfk_data)\n",
    "jfk_data[, \"max_id_alt\" := max(altitude), by = \"id\"]\n",
    "write.csv(jfk_data[, c(\"id\", \"aircraft\", \"lat\", \"lon\", \"ts\", \"altitude\", \"climb_rate\",\n",
    "                       \"azimuth\", \"ground_speed\", \"jfk_landing_flag\", \"source\",\n",
    "                       \"destination\", \"ground_flag\")],\n",
    "          \"../../../samples_with_jfk_landing_flag.csv\", row.names = F)\n",
    "saveRDS(ac_data, \"full_ac_data.Rds\")\n",
    "# saveRDS(jfk_data[jfk_data$max_id_alt >= 20000, ], \"high_ac_data.Rds\")\n",
    "saveRDS(jfk_data, \"full_jfk_data.Rds\")"
   ]
  },
  {
   "cell_type": "code",
   "execution_count": 20,
   "metadata": {},
   "outputs": [
    {
     "data": {
      "text/html": [
       "238829"
      ],
      "text/latex": [
       "238829"
      ],
      "text/markdown": [
       "238829"
      ],
      "text/plain": [
       "[1] 238829"
      ]
     },
     "metadata": {},
     "output_type": "display_data"
    }
   ],
   "source": [
    "length(unique(jfk_data$id))"
   ]
  }
 ],
 "metadata": {
  "kernelspec": {
   "display_name": "R [conda env:r_env]",
   "language": "R",
   "name": "conda-env-r_env-r"
  },
  "language_info": {
   "codemirror_mode": "r",
   "file_extension": ".r",
   "mimetype": "text/x-r-source",
   "name": "R",
   "pygments_lexer": "r",
   "version": "3.5.1"
  }
 },
 "nbformat": 4,
 "nbformat_minor": 2
}
