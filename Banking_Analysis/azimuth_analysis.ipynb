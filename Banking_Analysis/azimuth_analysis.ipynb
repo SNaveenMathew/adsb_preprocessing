{
 "cells": [
  {
   "cell_type": "markdown",
   "metadata": {},
   "source": [
    "# Notes on azimuth calculation:\n",
    "\n",
    "- The azimuth is equal to the current bearing:\n",
    "\n",
    "azimuth = bearing(c(lon, lat), c(last_lon, last_lat))\n",
    "\n",
    "This means forecast for next location depends on forecast for bearing\n",
    "\n",
    "- Forecast for next point:\n",
    " destPoint(c(lon, lat), next_azimuth, estimated_ground_distance)\n",
    "\n",
    "- For ground speed = 0 most frequent values of azimuth are: 180, 89, 271, 240, 120, 59, 301, 239, 58"
   ]
  },
  {
   "cell_type": "code",
   "execution_count": 1,
   "metadata": {},
   "outputs": [
    {
     "name": "stderr",
     "output_type": "stream",
     "text": [
      "\n",
      "Attaching package: 'dplyr'\n",
      "\n",
      "The following objects are masked from 'package:plyr':\n",
      "\n",
      "    arrange, count, desc, failwith, id, mutate, rename, summarise,\n",
      "    summarize\n",
      "\n",
      "The following objects are masked from 'package:stats':\n",
      "\n",
      "    filter, lag\n",
      "\n",
      "The following objects are masked from 'package:base':\n",
      "\n",
      "    intersect, setdiff, setequal, union\n",
      "\n",
      "\n",
      "Attaching package: 'data.table'\n",
      "\n",
      "The following objects are masked from 'package:dplyr':\n",
      "\n",
      "    between, first, last\n",
      "\n",
      "Registered S3 methods overwritten by 'ggplot2':\n",
      "  method         from \n",
      "  [.quosures     rlang\n",
      "  c.quosures     rlang\n",
      "  print.quosures rlang\n"
     ]
    }
   ],
   "source": [
    "library(plyr)\n",
    "library(dplyr)\n",
    "library(data.table)\n",
    "library(splines)\n",
    "library(parallel)\n",
    "library(ggplot2)"
   ]
  },
  {
   "cell_type": "markdown",
   "metadata": {},
   "source": [
    "# User defined functions"
   ]
  },
  {
   "cell_type": "code",
   "execution_count": 2,
   "metadata": {},
   "outputs": [],
   "source": [
    "get_azi_change_df <- function(ac_data) {\n",
    "  ac_data[, \"last_azimuth\" := c(NA, azimuth[-.N]), by = \"id\"]\n",
    "  azi_change_idx <- which(ac_data$azimuth != ac_data$last_azimuth | is.na(ac_data$last_azimuth))\n",
    "  azi_change_idx <- unique(unlist(lapply(azi_change_idx, function(idx) c(idx - 1, idx))))\n",
    "  azi_change_idx <- azi_change_idx[azi_change_idx != 0]\n",
    "  azi_change_df <- ac_data[azi_change_idx, ]\n",
    "  azi_change_df <- azi_change_df[azi_change_df$altitude != 0, ]\n",
    "  azi_change_df <- azi_change_df[, c(\"id\", \"ts\", \"azimuth\", \"ts_readable\"#, \"climb_rate\"#,\n",
    "                                     #\"est_climb_rate\"\n",
    "  )]\n",
    "  return(azi_change_df)\n",
    "}\n",
    "\n",
    "get_azi_diff <- function(azimuths) {\n",
    "  diffs <- diff(azimuths)\n",
    "  diffs[diffs < (-180)] <- diffs[diffs < (-180)] + 360\n",
    "  diffs[diffs > 180] <- diffs[diffs > 180] - 360\n",
    "  return(diffs)\n",
    "}\n",
    "\n",
    "identify_bank_phase <- function(uniq_id, plot_turns = T, return_dataframe = T, plot_point = F) {\n",
    "  return_df <- data.frame()\n",
    "  for(id1 in uniq_id) {\n",
    "    tryCatch({\n",
    "      id1_df <- azi_change_df[azi_change_df$id == id1, ]\n",
    "      est_bank_rate <- get_azi_diff(id1_df$azimuth)/diff(id1_df$ts)\n",
    "      bank_rate_sign <- c(0, sign(est_bank_rate))\n",
    "      bank_rate_sign_change <- c(F, bank_rate_sign[-1] != bank_rate_sign[-length(bank_rate_sign)])\n",
    "      id1_df$bank_rate_sign <- bank_rate_sign\n",
    "      id1_df$bank_rate_sign_change <- bank_rate_sign_change\n",
    "      id1_df$last_ts_diff <- c(0, diff(id1_df$ts))\n",
    "      id1_df$last_azimuth_diff <- c(0, get_azi_diff(id1_df$azimuth))\n",
    "      # id1_df$est_bank_rate <- c(0, est_bank_rate)\n",
    "      id1_df$total_bank_rate_sign_change <- cumsum(id1_df$bank_rate_sign_change)\n",
    "      setDT(id1_df)\n",
    "      # id1_df[, c(\"total_bank_angle\", \"total_time\") := list(sum(last_azimuth_diff), sum(last_ts_diff)), by = total_bank_rate_sign_change]\n",
    "      df1 <- id1_df[, .(\"ts_readable\" = ts_readable[1], \"total_bank_angle\" = sum(last_azimuth_diff), \"total_time\" = sum(last_ts_diff)), by = \"total_bank_rate_sign_change\"]\n",
    "      df1$avg_bank_rate <- df1$total_bank_angle/df1$total_time\n",
    "      angle_correction_sum <- (df1$total_bank_angle + c(NA, df1$total_bank_angle[-nrow(df1)]))[-1]\n",
    "      time_correction_sum <- (df1$total_time + c(NA, df1$total_time[-nrow(df1)]))[-1]\n",
    "      df1$turn <- F\n",
    "      df1$turn[(abs(df1$avg_bank_rate) > 0.5 & df1$total_time > 12) |\n",
    "                 abs(df1$total_bank_angle) > 12\n",
    "               ] <- T\n",
    "      df1$turn[which(df1$turn) + 1] <- T\n",
    "      df2 <- df1[df1$turn, ]\n",
    "      correction_total_bank_angle <- df2$total_bank_angle[-1] + df2$total_bank_angle[-nrow(df2)]\n",
    "      correction_total_time <- df2$total_time[-1] + df2$total_time[-nrow(df2)]\n",
    "      idxs <- which(abs(correction_total_bank_angle) < 10 & correction_total_time < 60 &\n",
    "                      (abs(df2$total_bank_angle[-1]) > 10 | abs(df2$total_bank_angle[-nrow(df2)]) > 10))\n",
    "      if(length(idxs) > 0) {\n",
    "        for(idx in idxs) {\n",
    "          df1$turn[which(df1$turn)[idx:(idx + 1)]] <- F\n",
    "        }\n",
    "      }\n",
    "      id1_df1 <- merge(id1_df, df1, all = T, by = c(\"total_bank_rate_sign_change\", \"ts_readable\"))\n",
    "      id1_df1$turn[is.na(id1_df1$turn)] <- F\n",
    "      id1_df1$total_azi_change <- id1_df1$ts_readable <- NULL\n",
    "      \n",
    "      id1_df2 <- merge(id1_df1, ac_data[ac_data$id == id1], all = T, by = c(\"id\", \"ts\", \"azimuth\"))\n",
    "      id1_df2$turn[is.na(id1_df2$turn)] <- F\n",
    "      turns_df <- id1_df2[id1_df2$turn, ]\n",
    "      \n",
    "      if(plot_turns) {\n",
    "        if(!is.na(turns_df$jfk_landing_flag[1])) {\n",
    "          png(paste0(\"bank/jfk_landing/\", id1, \".png\"), width = 800, height = 600)\n",
    "        } else {\n",
    "          png(paste0(\"bank/\", id1, \".png\"), width = 800, height = 600)\n",
    "        }\n",
    "        # plot(id1_df2$lon, id1_df2$lat)\n",
    "        # points(id1_df2$lon[id1_df2$turn], id1_df2$lat[id1_df2$turn], pch = 20, col = \"red\")\n",
    "        if(plot_point) {\n",
    "          p <- ggplot() + geom_point(data = id1_df2, aes(x = lon, y = lat, colour = altitude)) +\n",
    "            geom_point(data = turns_df, aes(x = lon, y = lat))\n",
    "        } else {\n",
    "          p <- ggplot() + geom_path(data = id1_df2, aes(x = lon, y = lat),\n",
    "                                    arrow = arrow(type = \"closed\", angle = 18,\n",
    "                                                  length = unit(0.05, \"inches\"))) +\n",
    "            geom_point(data = turns_df, aes(x = lon, y = lat, colour = altitude)) +\n",
    "            scale_colour_gradient(low = \"red\", high = \"green\")\n",
    "        }\n",
    "        print(p)\n",
    "        dev.off()\n",
    "      }\n",
    "      if(return_dataframe) {\n",
    "        return_df <- rbind(return_df, id1_df2)\n",
    "      }\n",
    "    }, error = function(e) print(e))\n",
    "  }\n",
    "  return(return_df)\n",
    "}"
   ]
  },
  {
   "cell_type": "code",
   "execution_count": 3,
   "metadata": {},
   "outputs": [],
   "source": [
    "dir.create(\"bank\", showWarnings = F)\n",
    "dir.create(\"bank/jfk_landing\", showWarnings = F)\n",
    "ac_data <- fread(\"../../../samples_with_jfk_landing_flag.csv\")\n",
    "ac_data <- ac_data[ac_data$ground_flag != 1, ]\n",
    "setDT(ac_data)\n",
    "setorder(ac_data, id, ts)\n",
    "ac_data$ts_readable <- as.POSIXct.numeric(as.numeric(ac_data$ts), origin=\"1970-01-01\")"
   ]
  },
  {
   "cell_type": "code",
   "execution_count": 4,
   "metadata": {},
   "outputs": [],
   "source": [
    "azi_change_df <- get_azi_change_df(ac_data)\n",
    "azi_change_df$azi_change <- TRUE\n",
    "ac_data <- merge(ac_data, azi_change_df, all = T)\n",
    "ac_data$azi_change[is.na(ac_data$azi_change)] <- F\n",
    "ac_data[, \"total_azi_change\" := cumsum(azi_change), by = \"id\"]\n",
    "ac_data[, \"next_ts\" := c(ts[-1], NA), by = \"id\"]\n",
    "ac_data$next_ts_diff <- ac_data$next_ts - ac_data$ts\n",
    "azi_change_df <- ac_data[ac_data$azi_change,\n",
    "                         c(\"id\", \"ts\", \"ts_readable\",\n",
    "                           \"azimuth\", \"total_azi_change\"\n",
    "                         )]\n",
    "ac_data$azi_change <- NULL"
   ]
  },
  {
   "cell_type": "code",
   "execution_count": 5,
   "metadata": {},
   "outputs": [
    {
     "data": {
      "image/png": "[encoded data removed]",
      "text/plain": [
       "plot without title"
      ]
     },
     "metadata": {},
     "output_type": "display_data"
    }
   ],
   "source": [
    "df <- ac_data[, .(nrows = .N, max_alt = max(altitude)), by = \"id\"]\n",
    "df <- df[df$max_alt >= 30000]\n",
    "id1 <- df$id[which.max(df$nrows)]\n",
    "ggplot(ac_data[ac_data$id == id1]) + geom_point(aes(x = lon, y = lat, col = altitude))"
   ]
  },
  {
   "cell_type": "code",
   "execution_count": 6,
   "metadata": {},
   "outputs": [],
   "source": [
    "uniq_id <- unique(ac_data$id)\n",
    "cores <- detectCores() - 1\n",
    "num <- ceiling(length(uniq_id)/cores)\n",
    "idx <- ceiling(1:length(uniq_id)/num)\n",
    "uniq_id_splits <- split(uniq_id, idx)"
   ]
  },
  {
   "cell_type": "code",
   "execution_count": 7,
   "metadata": {},
   "outputs": [],
   "source": [
    "cl <- makeCluster(cores)\n",
    "clusterExport(cl, list(\"azi_change_df\", \"ac_data\", \"tryCatch\", \"diff\", \"c\", \"sign\", \"cumsum\",\n",
    "                       \"list\", \"sum\", \"merge\", \"is.na\", \"abs\", \"setDT\", \"get_azi_diff\", \"ggplot\",\n",
    "                       \"geom_point\", \"aes\", \"geom_path\", \"arrow\", \"unit\", \"scale_colour_gradient\"))\n",
    "ret <- parLapply(cl = cl, X = uniq_id_splits, fun = identify_bank_phase)\n",
    "ret <- do.call(rbind, ret)\n",
    "ret$turn[ret$ground_speed == 0] <- F\n",
    "ret$avg_bank_rate[!ret$turn] <- 0\n",
    "stopCluster(cl)"
   ]
  },
  {
   "cell_type": "code",
   "execution_count": 8,
   "metadata": {},
   "outputs": [
    {
     "name": "stdout",
     "output_type": "stream",
     "text": [
      "[1] 0.9648188\n"
     ]
    },
    {
     "data": {
      "image/png": "[encoded data removed]",
      "text/plain": [
       "Plot with title \"Histogram of final_azimuth_df$final_azimuth\""
      ]
     },
     "metadata": {},
     "output_type": "display_data"
    }
   ],
   "source": [
    "jfk_data <- ac_data[ac_data$jfk_landing_flag, ]\n",
    "final_azimuth_df <- jfk_data[, .(final_azimuth = azimuth[.N],\n",
    "                                 destination = destination[.N],\n",
    "                                 max_altitude = max(altitude)), by = id]\n",
    "print(mean(final_azimuth_df$destination == \"JFK\"))\n",
    "hist(final_azimuth_df$final_azimuth, breaks = 80)"
   ]
  },
  {
   "cell_type": "code",
   "execution_count": 10,
   "metadata": {},
   "outputs": [
    {
     "data": {
      "text/html": [
       "<ol class=list-inline>\n",
       "\t<li>'id'</li>\n",
       "\t<li>'ts'</li>\n",
       "\t<li>'azimuth'</li>\n",
       "\t<li>'total_bank_rate_sign_change'</li>\n",
       "\t<li>'bank_rate_sign'</li>\n",
       "\t<li>'bank_rate_sign_change'</li>\n",
       "\t<li>'last_ts_diff'</li>\n",
       "\t<li>'last_azimuth_diff'</li>\n",
       "\t<li>'total_bank_angle'</li>\n",
       "\t<li>'total_time'</li>\n",
       "\t<li>'avg_bank_rate'</li>\n",
       "\t<li>'turn'</li>\n",
       "\t<li>'ts_readable'</li>\n",
       "\t<li>'aircraft'</li>\n",
       "\t<li>'lat'</li>\n",
       "\t<li>'lon'</li>\n",
       "\t<li>'altitude'</li>\n",
       "\t<li>'climb_rate'</li>\n",
       "\t<li>'ground_speed'</li>\n",
       "\t<li>'jfk_landing_flag'</li>\n",
       "\t<li>'source'</li>\n",
       "\t<li>'destination'</li>\n",
       "\t<li>'ground_flag'</li>\n",
       "\t<li>'last_azimuth'</li>\n",
       "\t<li>'total_azi_change'</li>\n",
       "\t<li>'next_ts'</li>\n",
       "\t<li>'next_ts_diff'</li>\n",
       "</ol>\n"
      ],
      "text/latex": [
       "\\begin{enumerate*}\n",
       "\\item 'id'\n",
       "\\item 'ts'\n",
       "\\item 'azimuth'\n",
       "\\item 'total\\_bank\\_rate\\_sign\\_change'\n",
       "\\item 'bank\\_rate\\_sign'\n",
       "\\item 'bank\\_rate\\_sign\\_change'\n",
       "\\item 'last\\_ts\\_diff'\n",
       "\\item 'last\\_azimuth\\_diff'\n",
       "\\item 'total\\_bank\\_angle'\n",
       "\\item 'total\\_time'\n",
       "\\item 'avg\\_bank\\_rate'\n",
       "\\item 'turn'\n",
       "\\item 'ts\\_readable'\n",
       "\\item 'aircraft'\n",
       "\\item 'lat'\n",
       "\\item 'lon'\n",
       "\\item 'altitude'\n",
       "\\item 'climb\\_rate'\n",
       "\\item 'ground\\_speed'\n",
       "\\item 'jfk\\_landing\\_flag'\n",
       "\\item 'source'\n",
       "\\item 'destination'\n",
       "\\item 'ground\\_flag'\n",
       "\\item 'last\\_azimuth'\n",
       "\\item 'total\\_azi\\_change'\n",
       "\\item 'next\\_ts'\n",
       "\\item 'next\\_ts\\_diff'\n",
       "\\end{enumerate*}\n"
      ],
      "text/markdown": [
       "1. 'id'\n",
       "2. 'ts'\n",
       "3. 'azimuth'\n",
       "4. 'total_bank_rate_sign_change'\n",
       "5. 'bank_rate_sign'\n",
       "6. 'bank_rate_sign_change'\n",
       "7. 'last_ts_diff'\n",
       "8. 'last_azimuth_diff'\n",
       "9. 'total_bank_angle'\n",
       "10. 'total_time'\n",
       "11. 'avg_bank_rate'\n",
       "12. 'turn'\n",
       "13. 'ts_readable'\n",
       "14. 'aircraft'\n",
       "15. 'lat'\n",
       "16. 'lon'\n",
       "17. 'altitude'\n",
       "18. 'climb_rate'\n",
       "19. 'ground_speed'\n",
       "20. 'jfk_landing_flag'\n",
       "21. 'source'\n",
       "22. 'destination'\n",
       "23. 'ground_flag'\n",
       "24. 'last_azimuth'\n",
       "25. 'total_azi_change'\n",
       "26. 'next_ts'\n",
       "27. 'next_ts_diff'\n",
       "\n",
       "\n"
      ],
      "text/plain": [
       " [1] \"id\"                          \"ts\"                         \n",
       " [3] \"azimuth\"                     \"total_bank_rate_sign_change\"\n",
       " [5] \"bank_rate_sign\"              \"bank_rate_sign_change\"      \n",
       " [7] \"last_ts_diff\"                \"last_azimuth_diff\"          \n",
       " [9] \"total_bank_angle\"            \"total_time\"                 \n",
       "[11] \"avg_bank_rate\"               \"turn\"                       \n",
       "[13] \"ts_readable\"                 \"aircraft\"                   \n",
       "[15] \"lat\"                         \"lon\"                        \n",
       "[17] \"altitude\"                    \"climb_rate\"                 \n",
       "[19] \"ground_speed\"                \"jfk_landing_flag\"           \n",
       "[21] \"source\"                      \"destination\"                \n",
       "[23] \"ground_flag\"                 \"last_azimuth\"               \n",
       "[25] \"total_azi_change\"            \"next_ts\"                    \n",
       "[27] \"next_ts_diff\"               "
      ]
     },
     "metadata": {},
     "output_type": "display_data"
    }
   ],
   "source": [
    "colnames(ret)"
   ]
  },
  {
   "cell_type": "markdown",
   "metadata": {},
   "source": [
    "# Postprocessing turns"
   ]
  },
  {
   "cell_type": "code",
   "execution_count": 21,
   "metadata": {},
   "outputs": [],
   "source": [
    "turn_idx <- which(ret$turn)\n",
    "avg_bank_rate_df <- ret[ret$turn, c(\"id\", \"ts\", \"avg_bank_rate\")]\n",
    "avg_bank_rate_df[, \"last_avg_bank_rate\" := c(avg_bank_rate[1] - 1, avg_bank_rate[-.N]), by = \"id\"]\n",
    "avg_bank_rate_df$avg_bank_rate_sign <- sign(avg_bank_rate_df$avg_bank_rate)\n",
    "avg_bank_rate_df$last_avg_bank_rate_sign <- sign(avg_bank_rate_df$last_avg_bank_rate)\n",
    "avg_bank_rate_df$avg_bank_rate_sign_change <- (avg_bank_rate_df$avg_bank_rate_sign != avg_bank_rate_df$last_avg_bank_rate_sign)"
   ]
  },
  {
   "cell_type": "code",
   "execution_count": 34,
   "metadata": {},
   "outputs": [
    {
     "data": {
      "text/html": [
       "<table>\n",
       "<thead><tr><th scope=col>id</th><th scope=col>ts</th><th scope=col>avg_bank_rate</th><th scope=col>last_avg_bank_rate</th><th scope=col>avg_bank_rate_sign</th><th scope=col>last_avg_bank_rate_sign</th><th scope=col>avg_bank_rate_sign_change</th></tr></thead>\n",
       "<tbody>\n",
       "\t<tr><td>001915_0  </td><td>1559000150</td><td> 0.0000000</td><td> 0.0000000</td><td> 0        </td><td> 0        </td><td>FALSE     </td></tr>\n",
       "\t<tr><td>00308D_0  </td><td>1558745990</td><td>-0.5098039</td><td>-1.5098039</td><td>-1        </td><td>-1        </td><td>FALSE     </td></tr>\n",
       "\t<tr><td>00308D_2  </td><td>1558748256</td><td>-0.9480519</td><td>-1.9480519</td><td>-1        </td><td>-1        </td><td>FALSE     </td></tr>\n",
       "\t<tr><td>00308D_2  </td><td>1558748608</td><td> 0.5675676</td><td> 0.1250000</td><td> 1        </td><td> 1        </td><td>FALSE     </td></tr>\n",
       "\t<tr><td>00B0EF_0  </td><td>1558951159</td><td>-0.1657459</td><td>-1.1657459</td><td>-1        </td><td>-1        </td><td>FALSE     </td></tr>\n",
       "\t<tr><td>00B0EF_2  </td><td>1558971448</td><td> 1.4482759</td><td> 0.4482759</td><td> 1        </td><td> 1        </td><td>FALSE     </td></tr>\n",
       "</tbody>\n",
       "</table>\n"
      ],
      "text/latex": [
       "\\begin{tabular}{r|lllllll}\n",
       " id & ts & avg\\_bank\\_rate & last\\_avg\\_bank\\_rate & avg\\_bank\\_rate\\_sign & last\\_avg\\_bank\\_rate\\_sign & avg\\_bank\\_rate\\_sign\\_change\\\\\n",
       "\\hline\n",
       "\t 001915\\_0 & 1559000150 &  0.0000000 &  0.0000000 &  0         &  0         & FALSE     \\\\\n",
       "\t 00308D\\_0 & 1558745990 & -0.5098039 & -1.5098039 & -1         & -1         & FALSE     \\\\\n",
       "\t 00308D\\_2 & 1558748256 & -0.9480519 & -1.9480519 & -1         & -1         & FALSE     \\\\\n",
       "\t 00308D\\_2 & 1558748608 &  0.5675676 &  0.1250000 &  1         &  1         & FALSE     \\\\\n",
       "\t 00B0EF\\_0 & 1558951159 & -0.1657459 & -1.1657459 & -1         & -1         & FALSE     \\\\\n",
       "\t 00B0EF\\_2 & 1558971448 &  1.4482759 &  0.4482759 &  1         &  1         & FALSE     \\\\\n",
       "\\end{tabular}\n"
      ],
      "text/markdown": [
       "\n",
       "| id | ts | avg_bank_rate | last_avg_bank_rate | avg_bank_rate_sign | last_avg_bank_rate_sign | avg_bank_rate_sign_change |\n",
       "|---|---|---|---|---|---|---|\n",
       "| 001915_0   | 1559000150 |  0.0000000 |  0.0000000 |  0         |  0         | FALSE      |\n",
       "| 00308D_0   | 1558745990 | -0.5098039 | -1.5098039 | -1         | -1         | FALSE      |\n",
       "| 00308D_2   | 1558748256 | -0.9480519 | -1.9480519 | -1         | -1         | FALSE      |\n",
       "| 00308D_2   | 1558748608 |  0.5675676 |  0.1250000 |  1         |  1         | FALSE      |\n",
       "| 00B0EF_0   | 1558951159 | -0.1657459 | -1.1657459 | -1         | -1         | FALSE      |\n",
       "| 00B0EF_2   | 1558971448 |  1.4482759 |  0.4482759 |  1         |  1         | FALSE      |\n",
       "\n"
      ],
      "text/plain": [
       "  id       ts         avg_bank_rate last_avg_bank_rate avg_bank_rate_sign\n",
       "1 001915_0 1559000150  0.0000000     0.0000000          0                \n",
       "2 00308D_0 1558745990 -0.5098039    -1.5098039         -1                \n",
       "3 00308D_2 1558748256 -0.9480519    -1.9480519         -1                \n",
       "4 00308D_2 1558748608  0.5675676     0.1250000          1                \n",
       "5 00B0EF_0 1558951159 -0.1657459    -1.1657459         -1                \n",
       "6 00B0EF_2 1558971448  1.4482759     0.4482759          1                \n",
       "  last_avg_bank_rate_sign avg_bank_rate_sign_change\n",
       "1  0                      FALSE                    \n",
       "2 -1                      FALSE                    \n",
       "3 -1                      FALSE                    \n",
       "4  1                      FALSE                    \n",
       "5 -1                      FALSE                    \n",
       "6  1                      FALSE                    "
      ]
     },
     "metadata": {},
     "output_type": "display_data"
    }
   ],
   "source": [
    "df <- avg_bank_rate_df[!avg_bank_rate_df$avg_bank_rate_sign_change, ]\n",
    "head(df)"
   ]
  },
  {
   "cell_type": "code",
   "execution_count": 24,
   "metadata": {},
   "outputs": [
    {
     "data": {
      "text/html": [
       "517233"
      ],
      "text/latex": [
       "517233"
      ],
      "text/markdown": [
       "517233"
      ],
      "text/plain": [
       "[1] 517233"
      ]
     },
     "metadata": {},
     "output_type": "display_data"
    },
    {
     "data": {
      "text/html": [
       "517233"
      ],
      "text/latex": [
       "517233"
      ],
      "text/markdown": [
       "517233"
      ],
      "text/plain": [
       "[1] 517233"
      ]
     },
     "metadata": {},
     "output_type": "display_data"
    }
   ],
   "source": [
    "length(turn_idx)\n",
    "nrow(avg_bank_rate_df)"
   ]
  },
  {
   "cell_type": "code",
   "execution_count": 28,
   "metadata": {},
   "outputs": [],
   "source": [
    "remove_turn_idx <- turn_idx[!avg_bank_rate_df$avg_bank_rate_sign_change]\n",
    "ret$turn[remove_turn_idx] <- F"
   ]
  },
  {
   "cell_type": "markdown",
   "metadata": {},
   "source": [
    "# Checking by plotting examples"
   ]
  },
  {
   "cell_type": "code",
   "execution_count": 35,
   "metadata": {},
   "outputs": [],
   "source": [
    "dir.create(\"removed\", showWarnings = F)\n",
    "for(id1 in unique(df$id)) {\n",
    "    png(paste0(\"removed/\", id1, \".png\"))\n",
    "    df1 <- df[df$id == id1, ]\n",
    "    id1_df <- ac_data[ac_data$id == id1, ]\n",
    "    plot(id1_df$lon, id1_df$lat)\n",
    "    points(ret$lon[ret$turn & ret$id == id1],\n",
    "           ret$lat[ret$turn & ret$id == id1],\n",
    "          pch = 19, col = \"blue\")\n",
    "    for(ts1 in df1$ts) {\n",
    "        points(id1_df$lon[id1_df$ts == ts1],\n",
    "               id1_df$lat[id1_df$ts == ts1],\n",
    "              pch = 19, col = \"red\")\n",
    "    }\n",
    "    dev.off()\n",
    "}"
   ]
  },
  {
   "cell_type": "code",
   "execution_count": 36,
   "metadata": {},
   "outputs": [],
   "source": [
    "saveRDS(ret[, c(\"id\", \"ts\", \"azimuth\", \"turn\", \"avg_bank_rate\")],\n",
    "        \"estimated_banking.Rds\")\n",
    "saveRDS(ret, \"full_estimated_banking.Rds\")"
   ]
  },
  {
   "cell_type": "markdown",
   "metadata": {},
   "source": [
    "# Observations\n",
    "\n",
    "- Landing azimuths ranges: 25-35 and 205-215\n",
    "- Most frequent: 30, 201, 31, 211, 29, 300"
   ]
  }
 ],
 "metadata": {
  "kernelspec": {
   "display_name": "R",
   "language": "R",
   "name": "ir"
  },
  "language_info": {
   "codemirror_mode": "r",
   "file_extension": ".r",
   "mimetype": "text/x-r-source",
   "name": "R",
   "pygments_lexer": "r",
   "version": "3.6.0"
  }
 },
 "nbformat": 4,
 "nbformat_minor": 2
}
